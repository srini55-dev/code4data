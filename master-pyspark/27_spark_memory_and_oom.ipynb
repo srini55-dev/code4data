{
 "cells": [
  {
   "cell_type": "code",
   "execution_count": null,
   "id": "65fabecf-9489-4088-9748-32a04e4c6994",
   "metadata": {
    "tags": []
   },
   "outputs": [],
   "source": [
    "# Spark Session\n",
    "from pyspark.sql import SparkSession\n",
    "\n",
    "spark = (\n",
    "    SparkSession\n",
    "    .builder\n",
    "    .appName(\"Spark Memory Management\")\n",
    "    .master(\"spark://b7db50cd9f83:7077\")\n",
    "    .config(\"spark.cores.max\", 8)\n",
    "    .config(\"spark.executor.cores\", 4)\n",
    "    .config(\"spark.executor.memory\", \"512MB\")\n",
    "    .getOrCreate()\n",
    ")\n",
    "\n",
    "spark"
   ]
  },
  {
   "cell_type": "markdown",
   "id": "8cddcc14-414d-43d6-afcf-e71792bc31a0",
   "metadata": {},
   "source": [
    "**Spark Memory Calculation Per Executor**"
   ]
  },
  {
   "cell_type": "code",
   "execution_count": null,
   "id": "b513a496-e6be-4f2e-a46c-5e892e8cbda5",
   "metadata": {},
   "outputs": [],
   "source": [
    "# JVM On-Heap Usable memory (89% of executor memory)\n"
   ]
  },
  {
   "cell_type": "code",
   "execution_count": null,
   "id": "1f738527-1048-4f27-9a20-866248ea8115",
   "metadata": {},
   "outputs": [],
   "source": [
    "# Subtracting Reserve Memory (300MB)\n"
   ]
  },
  {
   "cell_type": "code",
   "execution_count": null,
   "id": "9d4cf51d-15a7-4622-9f9a-55ed908490a5",
   "metadata": {},
   "outputs": [],
   "source": [
    "# Total Spark Memory (Unified Memory - Storage + Execution Memory) (60% default) spark.memory.fraction = 0.6\n"
   ]
  },
  {
   "cell_type": "code",
   "execution_count": null,
   "id": "d173454c-8548-44a6-a96c-b004b0379cfb",
   "metadata": {},
   "outputs": [],
   "source": [
    "# User / Undefined Memory (Not controlled by Spark) (remaining 40% default)\n"
   ]
  },
  {
   "cell_type": "code",
   "execution_count": null,
   "id": "62ac1449-ebd2-44cb-85b8-2b440b5e229f",
   "metadata": {},
   "outputs": [],
   "source": [
    "# Storage Memory (spark.memory.storageFraction = 0.5)\n"
   ]
  },
  {
   "cell_type": "code",
   "execution_count": null,
   "id": "93b0a2b9-92ac-4184-a1ba-0f8af8b8c30c",
   "metadata": {},
   "outputs": [],
   "source": [
    "# Execution Memory \n"
   ]
  },
  {
   "cell_type": "code",
   "execution_count": null,
   "id": "c518eb82-71ba-4af3-960a-4d3713a26d0b",
   "metadata": {},
   "outputs": [],
   "source": [
    "# Execution Memory per core\n"
   ]
  },
  {
   "cell_type": "markdown",
   "id": "189e402a-0770-49c6-86e7-922c1eae1b58",
   "metadata": {},
   "source": [
    "**Out Of Memory Error Demo on Executors**"
   ]
  },
  {
   "cell_type": "code",
   "execution_count": null,
   "id": "a6b56fb6-5594-462c-9567-308ebb1170bd",
   "metadata": {},
   "outputs": [],
   "source": [
    "# Disable AQE and Broadcast join\n",
    "\n",
    "spark.conf.set(\"spark.sql.adaptive.enabled\", False)\n",
    "spark.conf.set(\"spark.sql.adaptive.coalescePartitions.enabled\", False)\n",
    "spark.conf.set(\"spark.sql.autoBroadcastJoinThreshold\", -1)"
   ]
  },
  {
   "cell_type": "code",
   "execution_count": null,
   "id": "3ac63db0-40b2-480a-9963-c09df0988248",
   "metadata": {
    "tags": []
   },
   "outputs": [],
   "source": [
    "%%sh\n",
    "ls -ltrh /data/datasets/oom_example/"
   ]
  },
  {
   "cell_type": "code",
   "execution_count": null,
   "id": "0e489a60-9a8f-41c8-9ab8-5534c4a02cd4",
   "metadata": {},
   "outputs": [],
   "source": [
    "# Read file\n"
   ]
  },
  {
   "cell_type": "code",
   "execution_count": null,
   "id": "7b1cc384-09ce-4ca6-a0fe-69c00b441871",
   "metadata": {
    "tags": []
   },
   "outputs": [],
   "source": [
    "# Cache data\n"
   ]
  },
  {
   "cell_type": "code",
   "execution_count": null,
   "id": "ee29b948-c58d-489e-aa1f-158994970a68",
   "metadata": {},
   "outputs": [],
   "source": [
    "# Explode data to count words\n"
   ]
  },
  {
   "cell_type": "code",
   "execution_count": null,
   "id": "0f3c1394-b267-4272-995b-776ce99eeb93",
   "metadata": {},
   "outputs": [],
   "source": [
    "# Write with noop format for simulation\n"
   ]
  },
  {
   "cell_type": "code",
   "execution_count": null,
   "id": "e8aa7025-42ce-4a65-ac66-1d3b5b8b74dc",
   "metadata": {},
   "outputs": [],
   "source": []
  }
 ],
 "metadata": {
  "kernelspec": {
   "display_name": "Python 3 (ipykernel)",
   "language": "python",
   "name": "python3"
  },
  "language_info": {
   "codemirror_mode": {
    "name": "ipython",
    "version": 3
   },
   "file_extension": ".py",
   "mimetype": "text/x-python",
   "name": "python",
   "nbconvert_exporter": "python",
   "pygments_lexer": "ipython3",
   "version": "3.7.17"
  }
 },
 "nbformat": 4,
 "nbformat_minor": 5
}
